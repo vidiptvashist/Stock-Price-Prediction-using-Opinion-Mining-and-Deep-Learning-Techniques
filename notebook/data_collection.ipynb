{
 "cells": [
  {
   "cell_type": "markdown",
   "id": "8eb40666-c7f2-4b06-a618-236ac9ebc0fd",
   "metadata": {},
   "source": [
    "# Data collection using snscrape"
   ]
  },
  {
   "cell_type": "code",
   "execution_count": 1,
   "id": "7ac22d19-acc8-40e1-81bb-a3f34da47840",
   "metadata": {
    "collapsed": true,
    "jupyter": {
     "outputs_hidden": true
    },
    "tags": []
   },
   "outputs": [
    {
     "name": "stdout",
     "output_type": "stream",
     "text": [
      "Requirement already satisfied: snscrape in c:\\users\\vidipt\\anaconda3\\lib\\site-packages (0.6.2.20230321.dev1+g1c3a592)\n",
      "Requirement already satisfied: beautifulsoup4 in c:\\users\\vidipt\\anaconda3\\lib\\site-packages (from snscrape) (4.9.3)\n",
      "Requirement already satisfied: lxml in c:\\users\\vidipt\\anaconda3\\lib\\site-packages (from snscrape) (4.6.3)\n",
      "Requirement already satisfied: pytz in c:\\users\\vidipt\\anaconda3\\lib\\site-packages (from snscrape) (2021.1)\n",
      "Requirement already satisfied: filelock in c:\\users\\vidipt\\anaconda3\\lib\\site-packages (from snscrape) (3.0.12)\n",
      "Requirement already satisfied: requests[socks] in c:\\users\\vidipt\\anaconda3\\lib\\site-packages (from snscrape) (2.25.1)\n",
      "Requirement already satisfied: soupsieve>1.2 in c:\\users\\vidipt\\anaconda3\\lib\\site-packages (from beautifulsoup4->snscrape) (2.2.1)\n",
      "Requirement already satisfied: urllib3<1.27,>=1.21.1 in c:\\users\\vidipt\\anaconda3\\lib\\site-packages (from requests[socks]->snscrape) (1.26.4)\n",
      "Requirement already satisfied: idna<3,>=2.5 in c:\\users\\vidipt\\anaconda3\\lib\\site-packages (from requests[socks]->snscrape) (2.10)\n",
      "Requirement already satisfied: chardet<5,>=3.0.2 in c:\\users\\vidipt\\anaconda3\\lib\\site-packages (from requests[socks]->snscrape) (4.0.0)\n",
      "Requirement already satisfied: certifi>=2017.4.17 in c:\\users\\vidipt\\anaconda3\\lib\\site-packages (from requests[socks]->snscrape) (2020.12.5)\n",
      "Requirement already satisfied: PySocks!=1.5.7,>=1.5.6 in c:\\users\\vidipt\\anaconda3\\lib\\site-packages (from requests[socks]->snscrape) (1.7.1)\n",
      "Note: you may need to restart the kernel to use updated packages.\n"
     ]
    }
   ],
   "source": [
    "pip install snscrape"
   ]
  },
  {
   "cell_type": "code",
   "execution_count": 1,
   "id": "0413b3bf-6401-43eb-993e-885a49b16cb6",
   "metadata": {
    "tags": []
   },
   "outputs": [
    {
     "name": "stderr",
     "output_type": "stream",
     "text": [
      "C:\\Users\\Vidipt\\anaconda3\\lib\\site-packages\\numpy\\_distributor_init.py:30: UserWarning: loaded more than 1 DLL from .libs:\n",
      "C:\\Users\\Vidipt\\anaconda3\\lib\\site-packages\\numpy\\.libs\\libopenblas.EL2C6PLE4ZYW3ECEVIV3OXXGRN2NRFM2.gfortran-win_amd64.dll\n",
      "C:\\Users\\Vidipt\\anaconda3\\lib\\site-packages\\numpy\\.libs\\libopenblas.FB5AE2TYXYH2IJRDKGDGQ3XBKLKTF43H.gfortran-win_amd64.dll\n",
      "  warnings.warn(\"loaded more than 1 DLL from .libs:\"\n",
      "<ipython-input-1-583e25dfd6a7>:11: DeprecatedFeatureWarning: content is deprecated, use rawContent instead\n",
      "  tweets_list.append([tweet.date, tweet.id, tweet.content, tweet.user.username])\n"
     ]
    }
   ],
   "source": [
    "import snscrape.modules.twitter as sntwitter\n",
    "import pandas as pd\n",
    "\n",
    "# Creating list to append tweet data to\n",
    "tweets_list = []\n",
    "\n",
    "# Using TwitterSearchScraper to scrape data and append tweets to list\n",
    "for i,tweet in enumerate(sntwitter.TwitterSearchScraper('RELIANCE since:2022-12-01 until:2022-12-31').get_items()):\n",
    "    if i>50000:\n",
    "        break\n",
    "    tweets_list.append([tweet.date, tweet.id, tweet.content, tweet.user.username])\n",
    "    \n",
    "# Creating a dataframe from the tweets list above\n",
    "tweets_df = pd.DataFrame(tweets_list, columns=['Datetime', 'Tweet Id', 'Text', 'Username'])"
   ]
  },
  {
   "cell_type": "code",
   "execution_count": 2,
   "id": "a7f5437b-b1c0-403b-9902-6e3bdef0b381",
   "metadata": {},
   "outputs": [
    {
     "data": {
      "text/html": [
       "<div>\n",
       "<style scoped>\n",
       "    .dataframe tbody tr th:only-of-type {\n",
       "        vertical-align: middle;\n",
       "    }\n",
       "\n",
       "    .dataframe tbody tr th {\n",
       "        vertical-align: top;\n",
       "    }\n",
       "\n",
       "    .dataframe thead th {\n",
       "        text-align: right;\n",
       "    }\n",
       "</style>\n",
       "<table border=\"1\" class=\"dataframe\">\n",
       "  <thead>\n",
       "    <tr style=\"text-align: right;\">\n",
       "      <th></th>\n",
       "      <th>Datetime</th>\n",
       "      <th>Tweet Id</th>\n",
       "      <th>Text</th>\n",
       "      <th>Username</th>\n",
       "    </tr>\n",
       "  </thead>\n",
       "  <tbody>\n",
       "    <tr>\n",
       "      <th>0</th>\n",
       "      <td>2022-12-30 23:55:21+00:00</td>\n",
       "      <td>1608975056369233920</td>\n",
       "      <td>@AnfieldEdition Performances like this are bec...</td>\n",
       "      <td>Ed11Ram</td>\n",
       "    </tr>\n",
       "    <tr>\n",
       "      <th>1</th>\n",
       "      <td>2022-12-30 23:47:51+00:00</td>\n",
       "      <td>1608973168231993344</td>\n",
       "      <td>@KCchemguy @Derek_Wolfe95 ...but in certain si...</td>\n",
       "      <td>Chaz_Mattson</td>\n",
       "    </tr>\n",
       "    <tr>\n",
       "      <th>2</th>\n",
       "      <td>2022-12-30 23:47:19+00:00</td>\n",
       "      <td>1608973034144272386</td>\n",
       "      <td>@ettingermentum I think social alienation is l...</td>\n",
       "      <td>ChrisD2003</td>\n",
       "    </tr>\n",
       "    <tr>\n",
       "      <th>3</th>\n",
       "      <td>2022-12-30 23:47:12+00:00</td>\n",
       "      <td>1608973004930945026</td>\n",
       "      <td>@LBC @aliciakearns The only vegans I know do i...</td>\n",
       "      <td>CoderScribe</td>\n",
       "    </tr>\n",
       "    <tr>\n",
       "      <th>4</th>\n",
       "      <td>2022-12-30 23:42:42+00:00</td>\n",
       "      <td>1608971872636669953</td>\n",
       "      <td>Time is to love, reliance is to the end. https...</td>\n",
       "      <td>Its_a_BOT</td>\n",
       "    </tr>\n",
       "    <tr>\n",
       "      <th>...</th>\n",
       "      <td>...</td>\n",
       "      <td>...</td>\n",
       "      <td>...</td>\n",
       "      <td>...</td>\n",
       "    </tr>\n",
       "    <tr>\n",
       "      <th>42842</th>\n",
       "      <td>2022-12-01 00:12:24+00:00</td>\n",
       "      <td>1598107713107820545</td>\n",
       "      <td>@GraphicW5 @GmorkOfNothing Hear me out, workin...</td>\n",
       "      <td>BoomSardonic</td>\n",
       "    </tr>\n",
       "    <tr>\n",
       "      <th>42843</th>\n",
       "      <td>2022-12-01 00:12:16+00:00</td>\n",
       "      <td>1598107675942092800</td>\n",
       "      <td>@Lt_RedNaxela @CMRandall669 @24Kssb @Euphemism...</td>\n",
       "      <td>OffensiveChef39</td>\n",
       "    </tr>\n",
       "    <tr>\n",
       "      <th>42844</th>\n",
       "      <td>2022-12-01 00:10:25+00:00</td>\n",
       "      <td>1598107211703947265</td>\n",
       "      <td>Double-digit data centre growth over the next ...</td>\n",
       "      <td>murphyjpatrick</td>\n",
       "    </tr>\n",
       "    <tr>\n",
       "      <th>42845</th>\n",
       "      <td>2022-12-01 00:03:48+00:00</td>\n",
       "      <td>1598105545306537984</td>\n",
       "      <td>@jesswithie @Reetin @JasonPigeon5 It's for peo...</td>\n",
       "      <td>66__Parisienne</td>\n",
       "    </tr>\n",
       "    <tr>\n",
       "      <th>42846</th>\n",
       "      <td>2022-12-01 00:00:02+00:00</td>\n",
       "      <td>1598104598962577408</td>\n",
       "      <td>The people ... are the only sure reliance for ...</td>\n",
       "      <td>AFPMissouri</td>\n",
       "    </tr>\n",
       "  </tbody>\n",
       "</table>\n",
       "<p>42847 rows × 4 columns</p>\n",
       "</div>"
      ],
      "text/plain": [
       "                       Datetime             Tweet Id  \\\n",
       "0     2022-12-30 23:55:21+00:00  1608975056369233920   \n",
       "1     2022-12-30 23:47:51+00:00  1608973168231993344   \n",
       "2     2022-12-30 23:47:19+00:00  1608973034144272386   \n",
       "3     2022-12-30 23:47:12+00:00  1608973004930945026   \n",
       "4     2022-12-30 23:42:42+00:00  1608971872636669953   \n",
       "...                         ...                  ...   \n",
       "42842 2022-12-01 00:12:24+00:00  1598107713107820545   \n",
       "42843 2022-12-01 00:12:16+00:00  1598107675942092800   \n",
       "42844 2022-12-01 00:10:25+00:00  1598107211703947265   \n",
       "42845 2022-12-01 00:03:48+00:00  1598105545306537984   \n",
       "42846 2022-12-01 00:00:02+00:00  1598104598962577408   \n",
       "\n",
       "                                                    Text         Username  \n",
       "0      @AnfieldEdition Performances like this are bec...          Ed11Ram  \n",
       "1      @KCchemguy @Derek_Wolfe95 ...but in certain si...     Chaz_Mattson  \n",
       "2      @ettingermentum I think social alienation is l...       ChrisD2003  \n",
       "3      @LBC @aliciakearns The only vegans I know do i...      CoderScribe  \n",
       "4      Time is to love, reliance is to the end. https...        Its_a_BOT  \n",
       "...                                                  ...              ...  \n",
       "42842  @GraphicW5 @GmorkOfNothing Hear me out, workin...     BoomSardonic  \n",
       "42843  @Lt_RedNaxela @CMRandall669 @24Kssb @Euphemism...  OffensiveChef39  \n",
       "42844  Double-digit data centre growth over the next ...   murphyjpatrick  \n",
       "42845  @jesswithie @Reetin @JasonPigeon5 It's for peo...   66__Parisienne  \n",
       "42846  The people ... are the only sure reliance for ...      AFPMissouri  \n",
       "\n",
       "[42847 rows x 4 columns]"
      ]
     },
     "execution_count": 2,
     "metadata": {},
     "output_type": "execute_result"
    }
   ],
   "source": [
    "# Creating a dataframe from the tweets list above\n",
    "tweets_df2 = pd.DataFrame(tweets_list, columns=['Datetime', 'Tweet Id', 'Text', 'Username'])\n",
    "\n",
    "tweets_df2"
   ]
  },
  {
   "cell_type": "code",
   "execution_count": 3,
   "id": "ac07abca-60b9-4fc5-87d2-cd4f988fcddb",
   "metadata": {},
   "outputs": [],
   "source": [
    "tweets_df2.to_csv('Dec_0_RELIANCE.csv', sep\n",
    "                  =',', index=False)"
   ]
  }
 ],
 "metadata": {
  "kernelspec": {
   "display_name": "Python 3",
   "language": "python",
   "name": "python3"
  },
  "language_info": {
   "codemirror_mode": {
    "name": "ipython",
    "version": 3
   },
   "file_extension": ".py",
   "mimetype": "text/x-python",
   "name": "python",
   "nbconvert_exporter": "python",
   "pygments_lexer": "ipython3",
   "version": "3.8.8"
  }
 },
 "nbformat": 4,
 "nbformat_minor": 5
}
